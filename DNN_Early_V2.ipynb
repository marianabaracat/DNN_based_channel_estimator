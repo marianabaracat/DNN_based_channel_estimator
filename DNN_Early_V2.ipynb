{
 "cells": [
  {
   "cell_type": "code",
   "execution_count": 1,
   "metadata": {},
   "outputs": [],
   "source": [
    "import numpy as np"
   ]
  },
  {
   "cell_type": "code",
   "execution_count": 2,
   "metadata": {},
   "outputs": [],
   "source": [
    "import scipy.io\n",
    "\n",
    "mat3 = scipy.io.loadmat('channel_est_t.mat') #carrega o arquivo .mat\n",
    "xt=mat3.get('H_est_t') # pega o canal estimado LS (feature) para treinamento\n",
    "\n",
    "mat4 = scipy.io.loadmat('channel_t.mat') #carrega o arquivo .mat\n",
    "yt = mat4.get('H_t') # pega o canal original (target) para treinamento"
   ]
  },
  {
   "cell_type": "code",
   "execution_count": 3,
   "metadata": {},
   "outputs": [],
   "source": [
    "# concatena as partes reais e imaginárias em um vetor\n",
    "feature = np.concatenate((np.real(xt[:,:,0]), np.imag(xt[:,:,0])), axis=1)\n",
    "target = np.concatenate((np.real(yt[:,:,0]), np.imag(yt[:,:,0])), axis=1)"
   ]
  },
  {
   "cell_type": "code",
   "execution_count": 4,
   "metadata": {},
   "outputs": [],
   "source": [
    "# a função train_test_split separa em conjuntos de treinamento e de teste, a partir dos dados de treinamento\n",
    "from sklearn.model_selection import train_test_split\n",
    "\n",
    "feature_train, feature_test, target_train, target_test = train_test_split(feature, target, test_size=0.2)"
   ]
  },
  {
   "cell_type": "code",
   "execution_count": 5,
   "metadata": {},
   "outputs": [],
   "source": [
    "# carrega as bibliotecas usadas para geração da rede neural\n",
    "import tensorflow as tf\n",
    "from tensorflow.python.keras import *\n",
    "from tensorflow.python.keras.layers import *\n",
    "from tensorflow.python.keras.models import *"
   ]
  },
  {
   "cell_type": "code",
   "execution_count": 6,
   "metadata": {},
   "outputs": [],
   "source": [
    "# cria o modelo da rede neural\n",
    "inputs = tf.keras.Input(shape=(24,))\n",
    "temp = tf.keras.layers.Dense(24,activation=tf.nn.relu)(inputs)\n",
    "outputs = tf.keras.layers.Dense(24)(temp)\n",
    "\n",
    "model = tf.keras.Model(inputs=inputs, outputs=outputs)"
   ]
  },
  {
   "cell_type": "code",
   "execution_count": 7,
   "metadata": {},
   "outputs": [
    {
     "name": "stdout",
     "output_type": "stream",
     "text": [
      "Model: \"model\"\n",
      "_________________________________________________________________\n",
      "Layer (type)                 Output Shape              Param #   \n",
      "=================================================================\n",
      "input_1 (InputLayer)         [(None, 24)]              0         \n",
      "_________________________________________________________________\n",
      "dense (Dense)                (None, 24)                600       \n",
      "_________________________________________________________________\n",
      "dense_1 (Dense)              (None, 24)                600       \n",
      "=================================================================\n",
      "Total params: 1,200\n",
      "Trainable params: 1,200\n",
      "Non-trainable params: 0\n",
      "_________________________________________________________________\n"
     ]
    }
   ],
   "source": [
    "model.summary() #imprime um resumo da string da rede"
   ]
  },
  {
   "cell_type": "code",
   "execution_count": 8,
   "metadata": {},
   "outputs": [],
   "source": [
    "opt=tf.keras.optimizers.Adam(learning_rate=0.001) # definindo o otimizador ADAM e a taxa de aprendizado inicial\n",
    "\n",
    "# o modelo e compilado juntamente com a função de perda, o otimizador e as métricas para avaliação do modelo\n",
    "model.compile(loss=\"mse\", optimizer=opt, metrics=[tf.keras.metrics.MeanSquaredError()])"
   ]
  },
  {
   "cell_type": "code",
   "execution_count": 9,
   "metadata": {},
   "outputs": [],
   "source": [
    "# aqui é implementadado o Early Stopping para evitar o overfitting ( patience = depois de quantas épocas, sem o valor da perda alterar, o algoritmo deve parar) \n",
    "callbacks = [tf.keras.callbacks.EarlyStopping(monitor=\"val_loss\", patience=10)\n",
    "            ]\n",
    "# um calback é um objeto que pode realizar ações em vários estágios do treinamento"
   ]
  },
  {
   "cell_type": "code",
   "execution_count": 10,
   "metadata": {},
   "outputs": [
    {
     "name": "stdout",
     "output_type": "stream",
     "text": [
      "Epoch 1/500\n",
      "63/63 [==============================] - 1s 5ms/step - loss: 0.3136 - mean_squared_error: 0.3136 - val_loss: 0.0191 - val_mean_squared_error: 0.0191\n",
      "Epoch 2/500\n",
      "63/63 [==============================] - 0s 1ms/step - loss: 0.0098 - mean_squared_error: 0.0098 - val_loss: 0.0029 - val_mean_squared_error: 0.0029\n",
      "Epoch 3/500\n",
      "63/63 [==============================] - 0s 971us/step - loss: 0.0027 - mean_squared_error: 0.0027 - val_loss: 0.0020 - val_mean_squared_error: 0.0020\n",
      "Epoch 4/500\n",
      "63/63 [==============================] - 0s 900us/step - loss: 0.0019 - mean_squared_error: 0.0019 - val_loss: 0.0014 - val_mean_squared_error: 0.0014\n",
      "Epoch 5/500\n",
      "63/63 [==============================] - 0s 993us/step - loss: 0.0013 - mean_squared_error: 0.0013 - val_loss: 0.0010 - val_mean_squared_error: 0.0010\n",
      "Epoch 6/500\n",
      "63/63 [==============================] - 0s 981us/step - loss: 9.9957e-04 - mean_squared_error: 9.9957e-04 - val_loss: 8.4595e-04 - val_mean_squared_error: 8.4595e-04\n",
      "Epoch 7/500\n",
      "63/63 [==============================] - 0s 975us/step - loss: 8.2805e-04 - mean_squared_error: 8.2805e-04 - val_loss: 7.1790e-04 - val_mean_squared_error: 7.1790e-04\n",
      "Epoch 8/500\n",
      "63/63 [==============================] - 0s 1ms/step - loss: 7.1340e-04 - mean_squared_error: 7.1340e-04 - val_loss: 6.2858e-04 - val_mean_squared_error: 6.2858e-04\n",
      "Epoch 9/500\n",
      "63/63 [==============================] - 0s 1ms/step - loss: 6.1582e-04 - mean_squared_error: 6.1582e-04 - val_loss: 5.5582e-04 - val_mean_squared_error: 5.5582e-04\n",
      "Epoch 10/500\n",
      "63/63 [==============================] - 0s 1ms/step - loss: 5.4564e-04 - mean_squared_error: 5.4564e-04 - val_loss: 4.9651e-04 - val_mean_squared_error: 4.9651e-04\n",
      "Epoch 11/500\n",
      "63/63 [==============================] - 0s 1ms/step - loss: 4.9657e-04 - mean_squared_error: 4.9657e-04 - val_loss: 4.4301e-04 - val_mean_squared_error: 4.4301e-04\n",
      "Epoch 12/500\n",
      "63/63 [==============================] - 0s 1ms/step - loss: 4.3379e-04 - mean_squared_error: 4.3379e-04 - val_loss: 3.9617e-04 - val_mean_squared_error: 3.9617e-04\n",
      "Epoch 13/500\n",
      "63/63 [==============================] - 0s 1ms/step - loss: 3.8683e-04 - mean_squared_error: 3.8683e-04 - val_loss: 3.5300e-04 - val_mean_squared_error: 3.5300e-04\n",
      "Epoch 14/500\n",
      "63/63 [==============================] - 0s 1ms/step - loss: 3.4713e-04 - mean_squared_error: 3.4713e-04 - val_loss: 3.1472e-04 - val_mean_squared_error: 3.1472e-04\n",
      "Epoch 15/500\n",
      "63/63 [==============================] - 0s 1ms/step - loss: 3.1600e-04 - mean_squared_error: 3.1600e-04 - val_loss: 2.7969e-04 - val_mean_squared_error: 2.7969e-04\n",
      "Epoch 16/500\n",
      "63/63 [==============================] - 0s 1ms/step - loss: 2.7047e-04 - mean_squared_error: 2.7047e-04 - val_loss: 2.4867e-04 - val_mean_squared_error: 2.4867e-04\n",
      "Epoch 17/500\n",
      "63/63 [==============================] - 0s 1ms/step - loss: 2.5352e-04 - mean_squared_error: 2.5352e-04 - val_loss: 2.2132e-04 - val_mean_squared_error: 2.2132e-04\n",
      "Epoch 18/500\n",
      "63/63 [==============================] - 0s 961us/step - loss: 2.1907e-04 - mean_squared_error: 2.1907e-04 - val_loss: 1.9649e-04 - val_mean_squared_error: 1.9649e-04\n",
      "Epoch 19/500\n",
      "63/63 [==============================] - 0s 965us/step - loss: 1.9397e-04 - mean_squared_error: 1.9397e-04 - val_loss: 1.7513e-04 - val_mean_squared_error: 1.7513e-04\n",
      "Epoch 20/500\n",
      "63/63 [==============================] - 0s 953us/step - loss: 1.6931e-04 - mean_squared_error: 1.6931e-04 - val_loss: 1.5573e-04 - val_mean_squared_error: 1.5573e-04\n",
      "Epoch 21/500\n",
      "63/63 [==============================] - 0s 1ms/step - loss: 1.5246e-04 - mean_squared_error: 1.5246e-04 - val_loss: 1.3845e-04 - val_mean_squared_error: 1.3845e-04\n",
      "Epoch 22/500\n",
      "63/63 [==============================] - 0s 1ms/step - loss: 1.3500e-04 - mean_squared_error: 1.3500e-04 - val_loss: 1.2308e-04 - val_mean_squared_error: 1.2308e-04\n",
      "Epoch 23/500\n",
      "63/63 [==============================] - 0s 965us/step - loss: 1.1942e-04 - mean_squared_error: 1.1942e-04 - val_loss: 1.1041e-04 - val_mean_squared_error: 1.1041e-04\n",
      "Epoch 24/500\n",
      "63/63 [==============================] - 0s 937us/step - loss: 1.0542e-04 - mean_squared_error: 1.0542e-04 - val_loss: 9.7945e-05 - val_mean_squared_error: 9.7945e-05\n",
      "Epoch 25/500\n",
      "63/63 [==============================] - 0s 1ms/step - loss: 9.4876e-05 - mean_squared_error: 9.4876e-05 - val_loss: 8.7141e-05 - val_mean_squared_error: 8.7141e-05\n",
      "Epoch 26/500\n",
      "63/63 [==============================] - 0s 1ms/step - loss: 8.3704e-05 - mean_squared_error: 8.3704e-05 - val_loss: 7.7640e-05 - val_mean_squared_error: 7.7640e-05\n",
      "Epoch 27/500\n",
      "63/63 [==============================] - 0s 1ms/step - loss: 7.5908e-05 - mean_squared_error: 7.5908e-05 - val_loss: 6.9260e-05 - val_mean_squared_error: 6.9260e-05\n",
      "Epoch 28/500\n",
      "63/63 [==============================] - 0s 1ms/step - loss: 6.5956e-05 - mean_squared_error: 6.5956e-05 - val_loss: 6.1729e-05 - val_mean_squared_error: 6.1729e-05\n",
      "Epoch 29/500\n",
      "63/63 [==============================] - 0s 1ms/step - loss: 5.8809e-05 - mean_squared_error: 5.8809e-05 - val_loss: 5.5163e-05 - val_mean_squared_error: 5.5163e-05\n",
      "Epoch 30/500\n",
      "63/63 [==============================] - 0s 1ms/step - loss: 5.3237e-05 - mean_squared_error: 5.3237e-05 - val_loss: 4.8989e-05 - val_mean_squared_error: 4.8989e-05\n",
      "Epoch 31/500\n",
      "63/63 [==============================] - 0s 981us/step - loss: 4.6223e-05 - mean_squared_error: 4.6223e-05 - val_loss: 4.3891e-05 - val_mean_squared_error: 4.3891e-05\n",
      "Epoch 32/500\n",
      "63/63 [==============================] - 0s 919us/step - loss: 4.1617e-05 - mean_squared_error: 4.1617e-05 - val_loss: 3.9061e-05 - val_mean_squared_error: 3.9061e-05\n",
      "Epoch 33/500\n",
      "63/63 [==============================] - 0s 992us/step - loss: 3.6450e-05 - mean_squared_error: 3.6450e-05 - val_loss: 3.4524e-05 - val_mean_squared_error: 3.4524e-05\n",
      "Epoch 34/500\n",
      "63/63 [==============================] - 0s 981us/step - loss: 3.3999e-05 - mean_squared_error: 3.3999e-05 - val_loss: 3.0823e-05 - val_mean_squared_error: 3.0823e-05\n",
      "Epoch 35/500\n",
      "63/63 [==============================] - 0s 922us/step - loss: 2.8624e-05 - mean_squared_error: 2.8624e-05 - val_loss: 2.7453e-05 - val_mean_squared_error: 2.7453e-05\n",
      "Epoch 36/500\n",
      "63/63 [==============================] - 0s 992us/step - loss: 2.6106e-05 - mean_squared_error: 2.6106e-05 - val_loss: 2.4351e-05 - val_mean_squared_error: 2.4351e-05\n",
      "Epoch 37/500\n",
      "63/63 [==============================] - 0s 1ms/step - loss: 2.2276e-05 - mean_squared_error: 2.2276e-05 - val_loss: 2.1762e-05 - val_mean_squared_error: 2.1762e-05\n",
      "Epoch 38/500\n",
      "63/63 [==============================] - 0s 869us/step - loss: 2.0281e-05 - mean_squared_error: 2.0281e-05 - val_loss: 1.9420e-05 - val_mean_squared_error: 1.9420e-05\n",
      "Epoch 39/500\n",
      "63/63 [==============================] - 0s 949us/step - loss: 1.7458e-05 - mean_squared_error: 1.7458e-05 - val_loss: 1.7374e-05 - val_mean_squared_error: 1.7374e-05\n",
      "Epoch 40/500\n",
      "63/63 [==============================] - 0s 965us/step - loss: 1.5536e-05 - mean_squared_error: 1.5536e-05 - val_loss: 1.5636e-05 - val_mean_squared_error: 1.5636e-05\n",
      "Epoch 41/500\n",
      "63/63 [==============================] - 0s 869us/step - loss: 1.4952e-05 - mean_squared_error: 1.4952e-05 - val_loss: 1.3777e-05 - val_mean_squared_error: 1.3777e-05\n",
      "Epoch 42/500\n",
      "63/63 [==============================] - 0s 901us/step - loss: 1.2619e-05 - mean_squared_error: 1.2619e-05 - val_loss: 1.2352e-05 - val_mean_squared_error: 1.2352e-05\n",
      "Epoch 43/500\n",
      "63/63 [==============================] - 0s 853us/step - loss: 1.2033e-05 - mean_squared_error: 1.2033e-05 - val_loss: 1.1064e-05 - val_mean_squared_error: 1.1064e-05\n",
      "Epoch 44/500\n",
      "63/63 [==============================] - 0s 917us/step - loss: 1.0643e-05 - mean_squared_error: 1.0643e-05 - val_loss: 9.9072e-06 - val_mean_squared_error: 9.9072e-06\n",
      "Epoch 45/500\n",
      "63/63 [==============================] - 0s 2ms/step - loss: 8.9705e-06 - mean_squared_error: 8.9705e-06 - val_loss: 8.8869e-06 - val_mean_squared_error: 8.8869e-06\n",
      "Epoch 46/500\n",
      "63/63 [==============================] - 0s 1ms/step - loss: 8.1421e-06 - mean_squared_error: 8.1421e-06 - val_loss: 7.9857e-06 - val_mean_squared_error: 7.9857e-06\n",
      "Epoch 47/500\n"
     ]
    },
    {
     "name": "stdout",
     "output_type": "stream",
     "text": [
      "63/63 [==============================] - 0s 901us/step - loss: 7.7668e-06 - mean_squared_error: 7.7668e-06 - val_loss: 7.2037e-06 - val_mean_squared_error: 7.2037e-06\n",
      "Epoch 48/500\n",
      "63/63 [==============================] - 0s 901us/step - loss: 5.9206e-06 - mean_squared_error: 5.9206e-06 - val_loss: 6.5490e-06 - val_mean_squared_error: 6.5490e-06\n",
      "Epoch 49/500\n",
      "63/63 [==============================] - 0s 894us/step - loss: 5.8748e-06 - mean_squared_error: 5.8748e-06 - val_loss: 5.9161e-06 - val_mean_squared_error: 5.9161e-06\n",
      "Epoch 50/500\n",
      "63/63 [==============================] - 0s 999us/step - loss: 4.7635e-06 - mean_squared_error: 4.7635e-06 - val_loss: 5.4149e-06 - val_mean_squared_error: 5.4149e-06\n",
      "Epoch 51/500\n",
      "63/63 [==============================] - 0s 949us/step - loss: 5.3077e-06 - mean_squared_error: 5.3077e-06 - val_loss: 4.9426e-06 - val_mean_squared_error: 4.9426e-06\n",
      "Epoch 52/500\n",
      "63/63 [==============================] - 0s 907us/step - loss: 4.4533e-06 - mean_squared_error: 4.4533e-06 - val_loss: 4.4985e-06 - val_mean_squared_error: 4.4985e-06\n",
      "Epoch 53/500\n",
      "63/63 [==============================] - 0s 1ms/step - loss: 4.0675e-06 - mean_squared_error: 4.0675e-06 - val_loss: 4.1393e-06 - val_mean_squared_error: 4.1393e-06\n",
      "Epoch 54/500\n",
      "63/63 [==============================] - 0s 1ms/step - loss: 3.4241e-06 - mean_squared_error: 3.4241e-06 - val_loss: 3.7628e-06 - val_mean_squared_error: 3.7628e-06\n",
      "Epoch 55/500\n",
      "63/63 [==============================] - 0s 1ms/step - loss: 2.9227e-06 - mean_squared_error: 2.9227e-06 - val_loss: 3.7202e-06 - val_mean_squared_error: 3.7202e-06\n",
      "Epoch 56/500\n",
      "63/63 [==============================] - 0s 1ms/step - loss: 2.7485e-06 - mean_squared_error: 2.7485e-06 - val_loss: 3.2048e-06 - val_mean_squared_error: 3.2048e-06\n",
      "Epoch 57/500\n",
      "63/63 [==============================] - 0s 1ms/step - loss: 3.0145e-06 - mean_squared_error: 3.0145e-06 - val_loss: 3.0600e-06 - val_mean_squared_error: 3.0600e-06\n",
      "Epoch 58/500\n",
      "63/63 [==============================] - 0s 1ms/step - loss: 2.4712e-06 - mean_squared_error: 2.4712e-06 - val_loss: 2.8225e-06 - val_mean_squared_error: 2.8225e-06\n",
      "Epoch 59/500\n",
      "63/63 [==============================] - 0s 1ms/step - loss: 2.8228e-06 - mean_squared_error: 2.8228e-06 - val_loss: 2.5981e-06 - val_mean_squared_error: 2.5981e-06\n",
      "Epoch 60/500\n",
      "63/63 [==============================] - 0s 1ms/step - loss: 3.4802e-06 - mean_squared_error: 3.4802e-06 - val_loss: 2.4527e-06 - val_mean_squared_error: 2.4527e-06\n",
      "Epoch 61/500\n",
      "63/63 [==============================] - 0s 998us/step - loss: 1.9000e-06 - mean_squared_error: 1.9000e-06 - val_loss: 2.3153e-06 - val_mean_squared_error: 2.3153e-06\n",
      "Epoch 62/500\n",
      "63/63 [==============================] - 0s 1ms/step - loss: 2.6415e-06 - mean_squared_error: 2.6415e-06 - val_loss: 2.1606e-06 - val_mean_squared_error: 2.1606e-06\n",
      "Epoch 63/500\n",
      "63/63 [==============================] - 0s 1ms/step - loss: 2.0247e-06 - mean_squared_error: 2.0247e-06 - val_loss: 2.1732e-06 - val_mean_squared_error: 2.1732e-06\n",
      "Epoch 64/500\n",
      "63/63 [==============================] - 0s 1ms/step - loss: 1.7277e-06 - mean_squared_error: 1.7277e-06 - val_loss: 2.1194e-06 - val_mean_squared_error: 2.1194e-06\n",
      "Epoch 65/500\n",
      "63/63 [==============================] - 0s 983us/step - loss: 1.8503e-06 - mean_squared_error: 1.8503e-06 - val_loss: 1.9305e-06 - val_mean_squared_error: 1.9305e-06\n",
      "Epoch 66/500\n",
      "63/63 [==============================] - 0s 1ms/step - loss: 1.8535e-06 - mean_squared_error: 1.8535e-06 - val_loss: 1.8054e-06 - val_mean_squared_error: 1.8054e-06\n",
      "Epoch 67/500\n",
      "63/63 [==============================] - 0s 1ms/step - loss: 1.5646e-06 - mean_squared_error: 1.5646e-06 - val_loss: 1.7549e-06 - val_mean_squared_error: 1.7549e-06\n",
      "Epoch 68/500\n",
      "63/63 [==============================] - 0s 1ms/step - loss: 2.3556e-06 - mean_squared_error: 2.3556e-06 - val_loss: 1.6317e-06 - val_mean_squared_error: 1.6317e-06\n",
      "Epoch 69/500\n",
      "63/63 [==============================] - 0s 1ms/step - loss: 1.5028e-06 - mean_squared_error: 1.5028e-06 - val_loss: 1.6331e-06 - val_mean_squared_error: 1.6331e-06\n",
      "Epoch 70/500\n",
      "63/63 [==============================] - 0s 933us/step - loss: 1.8135e-06 - mean_squared_error: 1.8135e-06 - val_loss: 1.6319e-06 - val_mean_squared_error: 1.6319e-06\n",
      "Epoch 71/500\n",
      "63/63 [==============================] - 0s 1ms/step - loss: 1.8437e-06 - mean_squared_error: 1.8437e-06 - val_loss: 1.4981e-06 - val_mean_squared_error: 1.4981e-06\n",
      "Epoch 72/500\n",
      "63/63 [==============================] - 0s 875us/step - loss: 1.6576e-06 - mean_squared_error: 1.6576e-06 - val_loss: 1.5090e-06 - val_mean_squared_error: 1.5090e-06\n",
      "Epoch 73/500\n",
      "63/63 [==============================] - 0s 950us/step - loss: 1.6078e-06 - mean_squared_error: 1.6078e-06 - val_loss: 1.5755e-06 - val_mean_squared_error: 1.5755e-06\n",
      "Epoch 74/500\n",
      "63/63 [==============================] - 0s 1ms/step - loss: 1.5201e-06 - mean_squared_error: 1.5201e-06 - val_loss: 1.3815e-06 - val_mean_squared_error: 1.3815e-06\n",
      "Epoch 75/500\n",
      "63/63 [==============================] - 0s 903us/step - loss: 1.6294e-06 - mean_squared_error: 1.6294e-06 - val_loss: 1.3916e-06 - val_mean_squared_error: 1.3916e-06\n",
      "Epoch 76/500\n",
      "63/63 [==============================] - 0s 1ms/step - loss: 1.2331e-06 - mean_squared_error: 1.2331e-06 - val_loss: 1.3208e-06 - val_mean_squared_error: 1.3208e-06\n",
      "Epoch 77/500\n",
      "63/63 [==============================] - 0s 1ms/step - loss: 1.3391e-06 - mean_squared_error: 1.3391e-06 - val_loss: 1.4304e-06 - val_mean_squared_error: 1.4304e-06\n",
      "Epoch 78/500\n",
      "63/63 [==============================] - 0s 904us/step - loss: 1.2960e-06 - mean_squared_error: 1.2960e-06 - val_loss: 1.4999e-06 - val_mean_squared_error: 1.4999e-06\n",
      "Epoch 79/500\n",
      "63/63 [==============================] - 0s 1ms/step - loss: 1.3068e-06 - mean_squared_error: 1.3068e-06 - val_loss: 1.2872e-06 - val_mean_squared_error: 1.2872e-06\n",
      "Epoch 80/500\n",
      "63/63 [==============================] - 0s 965us/step - loss: 1.3514e-06 - mean_squared_error: 1.3514e-06 - val_loss: 1.3829e-06 - val_mean_squared_error: 1.3829e-06\n",
      "Epoch 81/500\n",
      "63/63 [==============================] - 0s 870us/step - loss: 1.3359e-06 - mean_squared_error: 1.3359e-06 - val_loss: 1.2230e-06 - val_mean_squared_error: 1.2230e-06\n",
      "Epoch 82/500\n",
      "63/63 [==============================] - 0s 1ms/step - loss: 1.7494e-06 - mean_squared_error: 1.7494e-06 - val_loss: 1.3893e-06 - val_mean_squared_error: 1.3893e-06\n",
      "Epoch 83/500\n",
      "63/63 [==============================] - 0s 1ms/step - loss: 1.6049e-06 - mean_squared_error: 1.6049e-06 - val_loss: 1.5540e-06 - val_mean_squared_error: 1.5540e-06\n",
      "Epoch 84/500\n",
      "63/63 [==============================] - 0s 979us/step - loss: 1.4373e-06 - mean_squared_error: 1.4373e-06 - val_loss: 1.1645e-06 - val_mean_squared_error: 1.1645e-06\n",
      "Epoch 85/500\n",
      "63/63 [==============================] - 0s 1ms/step - loss: 1.1997e-06 - mean_squared_error: 1.1997e-06 - val_loss: 1.1993e-06 - val_mean_squared_error: 1.1993e-06\n",
      "Epoch 86/500\n",
      "63/63 [==============================] - 0s 1ms/step - loss: 1.2252e-06 - mean_squared_error: 1.2252e-06 - val_loss: 1.1534e-06 - val_mean_squared_error: 1.1534e-06\n",
      "Epoch 87/500\n",
      "63/63 [==============================] - 0s 1ms/step - loss: 1.2841e-06 - mean_squared_error: 1.2841e-06 - val_loss: 1.1441e-06 - val_mean_squared_error: 1.1441e-06\n",
      "Epoch 88/500\n",
      "63/63 [==============================] - 0s 1ms/step - loss: 1.1639e-06 - mean_squared_error: 1.1639e-06 - val_loss: 1.1137e-06 - val_mean_squared_error: 1.1137e-06\n",
      "Epoch 89/500\n",
      "63/63 [==============================] - 0s 1ms/step - loss: 1.5429e-06 - mean_squared_error: 1.5429e-06 - val_loss: 1.1449e-06 - val_mean_squared_error: 1.1449e-06\n",
      "Epoch 90/500\n",
      "63/63 [==============================] - 0s 1ms/step - loss: 1.1251e-06 - mean_squared_error: 1.1251e-06 - val_loss: 1.1456e-06 - val_mean_squared_error: 1.1456e-06\n",
      "Epoch 91/500\n",
      "63/63 [==============================] - 0s 1ms/step - loss: 1.1650e-06 - mean_squared_error: 1.1650e-06 - val_loss: 1.2662e-06 - val_mean_squared_error: 1.2662e-06\n",
      "Epoch 92/500\n",
      "63/63 [==============================] - 0s 933us/step - loss: 1.4252e-06 - mean_squared_error: 1.4252e-06 - val_loss: 1.1380e-06 - val_mean_squared_error: 1.1380e-06\n"
     ]
    },
    {
     "name": "stdout",
     "output_type": "stream",
     "text": [
      "Epoch 93/500\n",
      "63/63 [==============================] - 0s 903us/step - loss: 1.2747e-06 - mean_squared_error: 1.2747e-06 - val_loss: 1.1099e-06 - val_mean_squared_error: 1.1099e-06\n",
      "Epoch 94/500\n",
      "63/63 [==============================] - 0s 901us/step - loss: 1.1467e-06 - mean_squared_error: 1.1467e-06 - val_loss: 1.1275e-06 - val_mean_squared_error: 1.1275e-06\n",
      "Epoch 95/500\n",
      "63/63 [==============================] - 0s 949us/step - loss: 1.1344e-06 - mean_squared_error: 1.1344e-06 - val_loss: 1.1714e-06 - val_mean_squared_error: 1.1714e-06\n",
      "Epoch 96/500\n",
      "63/63 [==============================] - 0s 942us/step - loss: 1.2623e-06 - mean_squared_error: 1.2623e-06 - val_loss: 1.1056e-06 - val_mean_squared_error: 1.1056e-06\n",
      "Epoch 97/500\n",
      "63/63 [==============================] - 0s 1ms/step - loss: 1.1522e-06 - mean_squared_error: 1.1522e-06 - val_loss: 1.1646e-06 - val_mean_squared_error: 1.1646e-06\n",
      "Epoch 98/500\n",
      "63/63 [==============================] - 0s 890us/step - loss: 1.1923e-06 - mean_squared_error: 1.1923e-06 - val_loss: 1.0599e-06 - val_mean_squared_error: 1.0599e-06\n",
      "Epoch 99/500\n",
      "63/63 [==============================] - 0s 1ms/step - loss: 1.1795e-06 - mean_squared_error: 1.1795e-06 - val_loss: 1.3812e-06 - val_mean_squared_error: 1.3812e-06\n",
      "Epoch 100/500\n",
      "63/63 [==============================] - 0s 933us/step - loss: 1.2586e-06 - mean_squared_error: 1.2586e-06 - val_loss: 1.1634e-06 - val_mean_squared_error: 1.1634e-06\n",
      "Epoch 101/500\n",
      "63/63 [==============================] - 0s 932us/step - loss: 1.2060e-06 - mean_squared_error: 1.2060e-06 - val_loss: 1.1844e-06 - val_mean_squared_error: 1.1844e-06\n",
      "Epoch 102/500\n",
      "63/63 [==============================] - 0s 956us/step - loss: 1.1877e-06 - mean_squared_error: 1.1877e-06 - val_loss: 1.2361e-06 - val_mean_squared_error: 1.2361e-06\n",
      "Epoch 103/500\n",
      "63/63 [==============================] - 0s 894us/step - loss: 1.2443e-06 - mean_squared_error: 1.2443e-06 - val_loss: 1.1095e-06 - val_mean_squared_error: 1.1095e-06\n",
      "Epoch 104/500\n",
      "63/63 [==============================] - 0s 917us/step - loss: 1.1330e-06 - mean_squared_error: 1.1330e-06 - val_loss: 1.1420e-06 - val_mean_squared_error: 1.1420e-06\n",
      "Epoch 105/500\n",
      "63/63 [==============================] - 0s 876us/step - loss: 1.2764e-06 - mean_squared_error: 1.2764e-06 - val_loss: 1.1033e-06 - val_mean_squared_error: 1.1033e-06\n",
      "Epoch 106/500\n",
      "63/63 [==============================] - 0s 1ms/step - loss: 1.2177e-06 - mean_squared_error: 1.2177e-06 - val_loss: 1.1023e-06 - val_mean_squared_error: 1.1023e-06\n",
      "Epoch 107/500\n",
      "63/63 [==============================] - 0s 956us/step - loss: 1.1390e-06 - mean_squared_error: 1.1390e-06 - val_loss: 1.1167e-06 - val_mean_squared_error: 1.1167e-06\n",
      "Epoch 108/500\n",
      "63/63 [==============================] - 0s 897us/step - loss: 1.3299e-06 - mean_squared_error: 1.3299e-06 - val_loss: 1.1281e-06 - val_mean_squared_error: 1.1281e-06\n"
     ]
    }
   ],
   "source": [
    "# o modelo é treinado\n",
    "history = model.fit(\n",
    "    feature_train,\n",
    "    target_train,\n",
    "    callbacks=callbacks,\n",
    "    batch_size=128,\n",
    "    epochs=500,\n",
    "    validation_data=(feature_test, target_test),\n",
    ")"
   ]
  },
  {
   "cell_type": "code",
   "execution_count": 11,
   "metadata": {},
   "outputs": [],
   "source": [
    "# aqui são carregados os dados para realizar previsões com o modelo treinado\n",
    "mat = scipy.io.loadmat('Channels_est.mat') #carrega o arquivo .mat\n",
    "x=mat.get('H_est') # pega o canal estimado LS (feature)\n",
    "\n",
    "mat1 = scipy.io.loadmat('Channels.mat') #carrega o arquivo .mat\n",
    "y = mat1.get('H') # pega o canal original (target)\n"
   ]
  },
  {
   "cell_type": "code",
   "execution_count": 12,
   "metadata": {},
   "outputs": [
    {
     "name": "stdout",
     "output_type": "stream",
     "text": [
      "79/79 [==============================] - 0s 380us/step - loss: 0.0024 - mean_squared_error: 0.0024\n",
      "79/79 [==============================] - 0s 370us/step - loss: 0.0026 - mean_squared_error: 0.0026\n",
      "79/79 [==============================] - 0s 395us/step - loss: 0.0023 - mean_squared_error: 0.0023\n",
      "79/79 [==============================] - 0s 371us/step - loss: 0.0024 - mean_squared_error: 0.0024\n",
      "79/79 [==============================] - 0s 433us/step - loss: 0.0055 - mean_squared_error: 0.0055\n",
      "79/79 [==============================] - 0s 435us/step - loss: 0.0033 - mean_squared_error: 0.0033\n"
     ]
    }
   ],
   "source": [
    "# o resultado é o MSE entre as previsões do modelo de DNN desenvolvido (LS + DNN) e as respostas reais do canal\n",
    "\n",
    "# carrega os dados referentes ao usúario com SNR igual 32.8 dB, concatenas as partes reais e imaginária e realiza as predições\n",
    "feature32=np.concatenate((np.real(x[1,:,:,0]), np.imag(x[1,:,:,0])), axis=1)\n",
    "target32=np.concatenate((np.real(y[1,:,:,0]), np.imag(y[1,:,:,0])), axis=1)\n",
    "mse32=model.evaluate(feature32,target32, batch_size=128)\n",
    "\n",
    "# carrega os dados referentes ao usúario com SNR igual 25.6 dB, concatenas as partes reais e imaginária e realiza as predições\n",
    "feature25=np.concatenate((np.real(x[2,:,:,0]), np.imag(x[2,:,:,0])), axis=1)\n",
    "target25=np.concatenate((np.real(y[2,:,:,0]), np.imag(y[2,:,:,0])), axis=1)\n",
    "mse25=model.evaluate(feature25,target25, batch_size=128)\n",
    "\n",
    "# carrega os dados referentes ao usúario com SNR igual 18.4 dB, concatenas as partes reais e imaginária e realiza as predições\n",
    "feature18=np.concatenate((np.real(x[3,:,:,0]), np.imag(x[3,:,:,0])), axis=1)\n",
    "target18=np.concatenate((np.real(y[3,:,:,0]), np.imag(y[3,:,:,0])), axis=1)\n",
    "mse18=model.evaluate(feature18,target18, batch_size=128)\n",
    "\n",
    "# carrega os dados referentes ao usúario com SNR igual 11.2 dB, concatenas as partes reais e imaginária e realiza as predições\n",
    "feature11=np.concatenate((np.real(x[4,:,:,0]), np.imag(x[4,:,:,0])), axis=1)\n",
    "target11=np.concatenate((np.real(y[4,:,:,0]), np.imag(y[4,:,:,0])), axis=1)\n",
    "mse11=model.evaluate(feature11,target11, batch_size=128)\n",
    "\n",
    "# carrega os dados referentes ao usúario com SNR igual 4 dB, concatenas as partes reais e imaginária e realiza as predições\n",
    "feature4=np.concatenate((np.real(x[5,:,:,0]), np.imag(x[5,:,:,0])), axis=1)\n",
    "target4=np.concatenate((np.real(y[5,:,:,0]), np.imag(y[5,:,:,0])), axis=1)\n",
    "mse4=model.evaluate(feature4,target4, batch_size=128)\n",
    "\n",
    "# carrega os dados referentes ao usúario com SNR igual 40 dB, concatenas as partes reais e imaginária e realiza as predições\n",
    "feature40=np.concatenate((np.real(x[0,:,:,0]), np.imag(x[0,:,:,0])), axis=1)\n",
    "target40=np.concatenate((np.real(y[0,:,:,0]), np.imag(y[0,:,:,0])), axis=1)\n",
    "mse40=model.evaluate(feature40,target40, batch_size=128)\n"
   ]
  },
  {
   "cell_type": "code",
   "execution_count": 13,
   "metadata": {},
   "outputs": [],
   "source": [
    "# gera os valores de MSE entre as estimativas LS (LS) e as respostas reais do canal\n",
    "\n",
    "from sklearn.metrics import mean_squared_error\n",
    "\n",
    "mseLS4=mean_squared_error(target4, feature4)\n",
    "\n",
    "mseLS11=mean_squared_error(target11, feature11)\n",
    "\n",
    "mseLS18=mean_squared_error(target18, feature18)\n",
    "\n",
    "mseLS25=mean_squared_error(target25, feature25)\n",
    "\n",
    "mseLS32=mean_squared_error(target32, feature32)\n",
    "\n",
    "mseLS40=mean_squared_error(target40, feature40)\n"
   ]
  },
  {
   "cell_type": "code",
   "execution_count": 14,
   "metadata": {},
   "outputs": [],
   "source": [
    "ax=np.array([4, 11.2, 18.4, 25.6, 32.8, 40])\n",
    "\n",
    "ayLS=np.array([mseLS4, mseLS11, mseLS18, mseLS25, mseLS32, mseLS40])\n",
    "\n",
    "ay=np.array([mse4, mse11, mse18, mse25, mse32, mse40])"
   ]
  },
  {
   "cell_type": "code",
   "execution_count": 15,
   "metadata": {},
   "outputs": [
    {
     "data": {
      "image/png": "[encoded data removed]",
      "text/plain": [
       "<Figure size 432x288 with 1 Axes>"
      ]
     },
     "metadata": {
      "needs_background": "light"
     },
     "output_type": "display_data"
    }
   ],
   "source": [
    "# plota o MSE vs as SNRs\n",
    "import matplotlib.pyplot as plt\n",
    "\n",
    "plt.figure()\n",
    "plt.plot(ax,ay[:,0], \"r--\")\n",
    "plt.plot(ax,ayLS, \"b-\")\n",
    "plt.legend([\"LS+DNN\", \"LS\"])\n",
    "plt.yscale('log')\n",
    "plt.xlabel(\"SNR (dB)\")\n",
    "plt.ylabel(\"MSE\")\n",
    "plt.grid(True)\n",
    "plt.show()"
   ]
  },
  {
   "cell_type": "code",
   "execution_count": 16,
   "metadata": {},
   "outputs": [
    {
     "data": {
      "image/png": "[encoded data removed]",
      "text/plain": [
       "<Figure size 432x288 with 1 Axes>"
      ]
     },
     "metadata": {
      "needs_background": "light"
     },
     "output_type": "display_data"
    }
   ],
   "source": [
    "training_loss = history.history[\"loss\"]\n",
    "test_loss = history.history[\"val_loss\"]\n",
    "\n",
    "epoch_count = range(1, len(training_loss) + 1)\n",
    "\n",
    "\n",
    "# plota o histórico da perda durante o treinamento\n",
    "plt.figure()\n",
    "plt.plot(epoch_count, training_loss, \"r--\")\n",
    "plt.plot(epoch_count, test_loss, \"b-\")\n",
    "plt.legend([\"Training Loss\", \"Test Loss\"])\n",
    "plt.xlabel(\"Epoch\")\n",
    "plt.ylabel(\"Loss\")\n",
    "plt.grid(True)\n",
    "plt.show();"
   ]
  },
  {
   "cell_type": "code",
   "execution_count": null,
   "metadata": {},
   "outputs": [],
   "source": []
  }
 ],
 "metadata": {
  "kernelspec": {
   "display_name": "Python 3",
   "language": "python",
   "name": "python3"
  },
  "language_info": {
   "codemirror_mode": {
    "name": "ipython",
    "version": 3
   },
   "file_extension": ".py",
   "mimetype": "text/x-python",
   "name": "python",
   "nbconvert_exporter": "python",
   "pygments_lexer": "ipython3",
   "version": "3.6.10"
  }
 },
 "nbformat": 4,
 "nbformat_minor": 4
}
