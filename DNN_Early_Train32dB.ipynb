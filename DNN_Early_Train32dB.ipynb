{
 "cells": [
  {
   "cell_type": "code",
   "execution_count": 1,
   "metadata": {},
   "outputs": [],
   "source": [
    "import numpy as np\n",
    "\n",
    "np.random.seed(0)"
   ]
  },
  {
   "cell_type": "code",
   "execution_count": 2,
   "metadata": {},
   "outputs": [],
   "source": [
    "import scipy.io\n",
    "\n",
    "\n",
    "mat = scipy.io.loadmat('Channels_est.mat') #carrega o arquivo .mat\n",
    "x=mat.get('H_est') # pega o canal estimado LS (feature)\n",
    "\n",
    "mat1 = scipy.io.loadmat('Channels.mat') #carrega o arquivo .mat\n",
    "y = mat1.get('H') # pega o canal original (target)"
   ]
  },
  {
   "cell_type": "code",
   "execution_count": null,
   "metadata": {},
   "outputs": [],
   "source": []
  },
  {
   "cell_type": "code",
   "execution_count": 3,
   "metadata": {},
   "outputs": [],
   "source": [
    "feature = np.concatenate((np.real(x[1,0:5000,:,0]), np.imag(x[1,0:5000,:,0])), axis=1)\n",
    "target = np.concatenate((np.real(y[1,0:5000,:,0]), np.imag(y[1,0:5000,:,0])), axis=1)"
   ]
  },
  {
   "cell_type": "code",
   "execution_count": 4,
   "metadata": {},
   "outputs": [],
   "source": [
    "from sklearn.model_selection import train_test_split\n",
    "\n",
    "feature_train, feature_test, target_train, target_test = train_test_split(feature, target, test_size=0.2, random_state=53)"
   ]
  },
  {
   "cell_type": "code",
   "execution_count": 5,
   "metadata": {},
   "outputs": [],
   "source": [
    "import tensorflow as tf\n",
    "from tensorflow.python.keras import *\n",
    "from tensorflow.python.keras.layers import *\n",
    "from tensorflow.python.keras.models import *"
   ]
  },
  {
   "cell_type": "code",
   "execution_count": 6,
   "metadata": {},
   "outputs": [],
   "source": [
    "inputs = tf.keras.Input(shape=(24,))\n",
    "temp = tf.keras.layers.Dense(24,activation=tf.nn.relu)(inputs)\n",
    "outputs = tf.keras.layers.Dense(24)(temp)\n",
    "\n",
    "model = tf.keras.Model(inputs=inputs, outputs=outputs)"
   ]
  },
  {
   "cell_type": "code",
   "execution_count": 7,
   "metadata": {},
   "outputs": [
    {
     "name": "stdout",
     "output_type": "stream",
     "text": [
      "Model: \"model\"\n",
      "_________________________________________________________________\n",
      "Layer (type)                 Output Shape              Param #   \n",
      "=================================================================\n",
      "input_1 (InputLayer)         [(None, 24)]              0         \n",
      "_________________________________________________________________\n",
      "dense (Dense)                (None, 24)                600       \n",
      "_________________________________________________________________\n",
      "dense_1 (Dense)              (None, 24)                600       \n",
      "=================================================================\n",
      "Total params: 1,200\n",
      "Trainable params: 1,200\n",
      "Non-trainable params: 0\n",
      "_________________________________________________________________\n"
     ]
    }
   ],
   "source": [
    "model.summary()"
   ]
  },
  {
   "cell_type": "code",
   "execution_count": 8,
   "metadata": {},
   "outputs": [],
   "source": [
    "opt=tf.keras.optimizers.Adam(learning_rate=0.0001)\n",
    "\n",
    "model.compile(loss=\"mse\", optimizer=opt, metrics=[tf.keras.metrics.MeanSquaredError()])"
   ]
  },
  {
   "cell_type": "code",
   "execution_count": 9,
   "metadata": {},
   "outputs": [],
   "source": [
    "callbacks = [tf.keras.callbacks.EarlyStopping(monitor=\"val_loss\", patience=10)\n",
    "            ]"
   ]
  },
  {
   "cell_type": "code",
   "execution_count": 10,
   "metadata": {},
   "outputs": [],
   "source": [
    "history = model.fit(\n",
    "    feature_train,\n",
    "    target_train,\n",
    "    callbacks=callbacks,\n",
    "    batch_size=128,\n",
    "    epochs=500,\n",
    "    validation_data=(feature_test, target_test),\n",
    "    verbose=0,\n",
    ")"
   ]
  },
  {
   "cell_type": "code",
   "execution_count": 11,
   "metadata": {},
   "outputs": [
    {
     "name": "stdout",
     "output_type": "stream",
     "text": [
      "40/40 [==============================] - 0s 563us/step - loss: 3.9324e-05 - mean_squared_error: 3.9324e-05\n",
      "79/79 [==============================] - 0s 486us/step - loss: 0.0017 - mean_squared_error: 0.0017\n",
      "79/79 [==============================] - 0s 304us/step - loss: 0.0030 - mean_squared_error: 0.0030\n",
      "79/79 [==============================] - 0s 448us/step - loss: 0.0023 - mean_squared_error: 0.0023\n",
      "79/79 [==============================] - 0s 313us/step - loss: 0.0055 - mean_squared_error: 0.0055\n",
      "79/79 [==============================] - 0s 488us/step - loss: 0.0040 - mean_squared_error: 0.0040\n"
     ]
    }
   ],
   "source": [
    "feature32=np.concatenate((np.real(x[1,5000:10000,:,0]), np.imag(x[1,5000:10000,:,0])), axis=1)\n",
    "target32=np.concatenate((np.real(y[1,5000:10000,:,0]), np.imag(y[1,5000:10000,:,0])), axis=1)\n",
    "mse32=model.evaluate(feature32,target32, batch_size=128)\n",
    "\n",
    "feature25=np.concatenate((np.real(x[2,:,:,0]), np.imag(x[2,:,:,0])), axis=1)\n",
    "target25=np.concatenate((np.real(y[2,:,:,0]), np.imag(y[2,:,:,0])), axis=1)\n",
    "mse25=model.evaluate(feature25,target25, batch_size=128)\n",
    "\n",
    "feature18=np.concatenate((np.real(x[3,:,:,0]), np.imag(x[3,:,:,0])), axis=1)\n",
    "target18=np.concatenate((np.real(y[3,:,:,0]), np.imag(y[3,:,:,0])), axis=1)\n",
    "mse18=model.evaluate(feature18,target18, batch_size=128)\n",
    "\n",
    "feature11=np.concatenate((np.real(x[4,:,:,0]), np.imag(x[4,:,:,0])), axis=1)\n",
    "target11=np.concatenate((np.real(y[4,:,:,0]), np.imag(y[4,:,:,0])), axis=1)\n",
    "mse11=model.evaluate(feature11,target11, batch_size=128)\n",
    "\n",
    "feature4=np.concatenate((np.real(x[5,:,:,0]), np.imag(x[5,:,:,0])), axis=1)\n",
    "target4=np.concatenate((np.real(y[5,:,:,0]), np.imag(y[5,:,:,0])), axis=1)\n",
    "mse4=model.evaluate(feature4,target4, batch_size=128)\n",
    "\n",
    "feature40=np.concatenate((np.real(x[0,:,:,0]), np.imag(x[0,:,:,0])), axis=1)\n",
    "target40=np.concatenate((np.real(y[0,:,:,0]), np.imag(y[0,:,:,0])), axis=1)\n",
    "mse40=model.evaluate(feature40,target40, batch_size=128)\n"
   ]
  },
  {
   "cell_type": "code",
   "execution_count": 12,
   "metadata": {},
   "outputs": [],
   "source": [
    "from sklearn.metrics import mean_squared_error\n",
    "\n",
    "mseLS4=mean_squared_error(target4, feature4)\n",
    "\n",
    "mseLS11=mean_squared_error(target11, feature11)\n",
    "\n",
    "mseLS18=mean_squared_error(target18, feature18)\n",
    "\n",
    "mseLS25=mean_squared_error(target25, feature25)\n",
    "\n",
    "mseLS32=mean_squared_error(target32, feature32)\n",
    "\n",
    "mseLS40=mean_squared_error(target40, feature40)\n"
   ]
  },
  {
   "cell_type": "code",
   "execution_count": 13,
   "metadata": {},
   "outputs": [],
   "source": [
    "ax=np.array([4, 11.2, 18.4, 25.6, 32.8, 40])\n",
    "\n",
    "ayLS=np.array([mseLS4, mseLS11, mseLS18, mseLS25, mseLS32, mseLS40])\n",
    "\n",
    "ay=np.array([mse4, mse11, mse18, mse25, mse32, mse40])"
   ]
  },
  {
   "cell_type": "code",
   "execution_count": 14,
   "metadata": {},
   "outputs": [
    {
     "data": {
      "image/png": "[encoded data removed]",
      "text/plain": [
       "<Figure size 432x288 with 1 Axes>"
      ]
     },
     "metadata": {
      "needs_background": "light"
     },
     "output_type": "display_data"
    }
   ],
   "source": [
    "# plota o MSE vs as SNRs\n",
    "import matplotlib.pyplot as plt\n",
    "\n",
    "plt.figure()\n",
    "plt.plot(ax,ay[:,0], \"r--\")\n",
    "plt.plot(ax,ayLS, \"b-\")\n",
    "plt.legend([\"LS+DNN\", \"LS\"])\n",
    "plt.yscale('log')\n",
    "plt.xlabel(\"SNR (dB)\")\n",
    "plt.ylabel(\"MSE\")\n",
    "plt.grid(True)\n",
    "plt.show()"
   ]
  },
  {
   "cell_type": "code",
   "execution_count": 15,
   "metadata": {},
   "outputs": [
    {
     "data": {
      "image/png": "[encoded data removed]",
      "text/plain": [
       "<Figure size 432x288 with 1 Axes>"
      ]
     },
     "metadata": {
      "needs_background": "light"
     },
     "output_type": "display_data"
    }
   ],
   "source": [
    "training_loss = history.history[\"loss\"]\n",
    "test_loss = history.history[\"val_loss\"]\n",
    "\n",
    "epoch_count = range(1, len(training_loss) + 1)\n",
    "\n",
    "\n",
    "# plota o histórico da perda durante o treinamento\n",
    "plt.figure()\n",
    "plt.plot(epoch_count, training_loss, \"r--\")\n",
    "plt.plot(epoch_count, test_loss, \"b-\")\n",
    "plt.legend([\"Training Loss\", \"Test Loss\"])\n",
    "plt.xlabel(\"Epoch\")\n",
    "plt.ylabel(\"Loss\")\n",
    "plt.grid(True)\n",
    "plt.show();"
   ]
  },
  {
   "cell_type": "code",
   "execution_count": null,
   "metadata": {},
   "outputs": [],
   "source": []
  }
 ],
 "metadata": {
  "kernelspec": {
   "display_name": "Python 3",
   "language": "python",
   "name": "python3"
  },
  "language_info": {
   "codemirror_mode": {
    "name": "ipython",
    "version": 3
   },
   "file_extension": ".py",
   "mimetype": "text/x-python",
   "name": "python",
   "nbconvert_exporter": "python",
   "pygments_lexer": "ipython3",
   "version": "3.6.10"
  }
 },
 "nbformat": 4,
 "nbformat_minor": 4
}
